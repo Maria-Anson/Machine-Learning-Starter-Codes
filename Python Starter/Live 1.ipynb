{
 "cells": [
  {
   "cell_type": "markdown",
   "metadata": {},
   "source": [
    "# Add two numbers"
   ]
  },
  {
   "cell_type": "markdown",
   "metadata": {},
   "source": [
    "### Simple"
   ]
  },
  {
   "cell_type": "code",
   "execution_count": 15,
   "metadata": {},
   "outputs": [
    {
     "data": {
      "text/plain": [
       "27"
      ]
     },
     "execution_count": 15,
     "metadata": {},
     "output_type": "execute_result"
    }
   ],
   "source": [
    "num1 = 15\n",
    "num2 = 12\n",
    "sum = num1+num2\n",
    "sum"
   ]
  },
  {
   "cell_type": "code",
   "execution_count": 5,
   "metadata": {},
   "outputs": [
    {
     "name": "stdout",
     "output_type": "stream",
     "text": [
      "Sum of 15 and 12 is 27\n"
     ]
    }
   ],
   "source": [
    "num1 = 15\n",
    "num2 = 12\n",
    "\n",
    "sum =num1+num2\n",
    "\n",
    "print(\"Sum of {0} and {1} is {2}\".format(num1,num2,sum))"
   ]
  },
  {
   "cell_type": "markdown",
   "metadata": {},
   "source": [
    "### User input"
   ]
  },
  {
   "cell_type": "code",
   "execution_count": 16,
   "metadata": {},
   "outputs": [
    {
     "name": "stdout",
     "output_type": "stream",
     "text": [
      "First number : 10.2\n",
      "Second number : 1.3\n",
      "Sum of 10.2 and 1.3 is 11.5\n"
     ]
    }
   ],
   "source": [
    "num1 = float(input(\"First number : \"))\n",
    "num2 = float(input(\"Second number : \"))\n",
    "\n",
    "sum =num1+num2\n",
    "\n",
    "print(\"Sum of {0} and {1} is {2}\".format(num1,num2,sum))"
   ]
  },
  {
   "cell_type": "markdown",
   "metadata": {},
   "source": [
    "# Factorial"
   ]
  },
  {
   "cell_type": "markdown",
   "metadata": {},
   "source": [
    "### While Loop"
   ]
  },
  {
   "cell_type": "code",
   "execution_count": 17,
   "metadata": {},
   "outputs": [
    {
     "name": "stdout",
     "output_type": "stream",
     "text": [
      "Enter a number : 5\n",
      "The factorial of 5 is 120\n"
     ]
    }
   ],
   "source": [
    "n = int(input(\"Enter a number : \"))\n",
    "val = n\n",
    "\n",
    "fact = 1 \n",
    "while n!=0:\n",
    "    fact = fact*n\n",
    "    n -=1\n",
    "\n",
    "print(\"The factorial of {0} is {1}\".format(val,fact))\n",
    "    "
   ]
  },
  {
   "cell_type": "markdown",
   "metadata": {},
   "source": [
    "### For Loop"
   ]
  },
  {
   "cell_type": "code",
   "execution_count": 22,
   "metadata": {},
   "outputs": [
    {
     "name": "stdout",
     "output_type": "stream",
     "text": [
      "Enter a number : 5\n",
      "1\n",
      "2\n",
      "3\n",
      "4\n",
      "5\n",
      "The factorial of 5 is 120\n"
     ]
    }
   ],
   "source": [
    "n = int(input(\"Enter a number : \"))\n",
    "\n",
    "fact = 1\n",
    "for i in range(1,n+1):\n",
    "    fact = fact*i\n",
    "    print(i)\n",
    "    i +=1\n",
    "\n",
    "print(\"The factorial of {0} is {1}\".format(n,fact))     "
   ]
  },
  {
   "cell_type": "code",
   "execution_count": 21,
   "metadata": {},
   "outputs": [
    {
     "name": "stdout",
     "output_type": "stream",
     "text": [
      "Enter a number : 5\n",
      "5\n",
      "4\n",
      "3\n",
      "2\n",
      "1\n",
      "The factorial of 5 is 120\n"
     ]
    }
   ],
   "source": [
    "n = int(input(\"Enter a number : \"))\n",
    "\n",
    "fact = 1\n",
    "for i in reversed(range(1,n+1)):\n",
    "    fact = fact*i\n",
    "    print(i)\n",
    "    i +=1\n",
    "\n",
    "print(\"The factorial of {0} is {1}\".format(n,fact))     "
   ]
  },
  {
   "cell_type": "markdown",
   "metadata": {},
   "source": [
    "# Simple Interest"
   ]
  },
  {
   "cell_type": "code",
   "execution_count": 24,
   "metadata": {},
   "outputs": [
    {
     "name": "stdout",
     "output_type": "stream",
     "text": [
      "Enter the principal amount : 3000\n",
      "Enter the rate of interest in : 7\n",
      "Enter the time : 1\n",
      "The interest with principal 3000.0, rate 7.0% and time 1.0year is 210.0\n"
     ]
    }
   ],
   "source": [
    "p = float(input(\"Enter the principal amount : \"))\n",
    "r = float(input(\"Enter the rate of interest in : \"))\n",
    "t = float(input(\"Enter the time : \"))\n",
    "\n",
    "interest = p*r*t/100\n",
    "print(\"The interest with principal {}, rate {}% and time {}year is {}\".format(p,r,t,interest))"
   ]
  },
  {
   "cell_type": "markdown",
   "metadata": {},
   "source": [
    "# Compound Interest"
   ]
  },
  {
   "cell_type": "code",
   "execution_count": 31,
   "metadata": {},
   "outputs": [
    {
     "name": "stdout",
     "output_type": "stream",
     "text": [
      "Enter the principal amount : 1200\n",
      "Enter the rate of interest in : 5.4\n",
      "Enter the time : 2\n",
      "The interest with principal 1200.0, rate 5.4% and time 2.0year is 1333.0992\n"
     ]
    }
   ],
   "source": [
    "p = float(input(\"Enter the principal amount : \"))\n",
    "r = float(input(\"Enter the rate of interest in : \"))\n",
    "t = float(input(\"Enter the time : \"))\n",
    "\n",
    "interest = p*(1+r/100)**t\n",
    "print(\"The interest with principal {}, rate {}% and time {}year is {}\".format(p,r,t,interest))"
   ]
  },
  {
   "cell_type": "markdown",
   "metadata": {},
   "source": [
    "# Check Armstrong Number"
   ]
  },
  {
   "cell_type": "code",
   "execution_count": 46,
   "metadata": {},
   "outputs": [
    {
     "name": "stdout",
     "output_type": "stream",
     "text": [
      "Enter any number : 153\n",
      "153 is an armstrong number\n"
     ]
    }
   ],
   "source": [
    "num = int(input(\"Enter any number : \"))\n",
    "prin = num\n",
    "\n",
    "order = len(str(num))\n",
    "sum = 0\n",
    "\n",
    "while num!=0:\n",
    "    sum += (num%10)**order\n",
    "    num = int(num/10)\n",
    "\n",
    "if sum==prin:\n",
    "    print(\"{} is an armstrong number\".format(prin))\n",
    "else:\n",
    "    print(\"{} is not an armstrong number\".format(prin))"
   ]
  },
  {
   "cell_type": "markdown",
   "metadata": {},
   "source": [
    "# Find Area of Circle"
   ]
  },
  {
   "cell_type": "code",
   "execution_count": 53,
   "metadata": {},
   "outputs": [
    {
     "name": "stdout",
     "output_type": "stream",
     "text": [
      "Enter the radius of the circle :3\n",
      "The area of the circle with radius 3.0 is 28.274333882308138\n"
     ]
    }
   ],
   "source": [
    "import math\n",
    "\n",
    "pi = math.pi\n",
    "radius = float(input(\"Enter the radius of the circle :\"))\n",
    "\n",
    "area = pi*radius**2\n",
    "\n",
    "print(\"The area of the circle with radius {} is {}\".format(radius,area))"
   ]
  },
  {
   "cell_type": "markdown",
   "metadata": {},
   "source": [
    "# Prime numbers in an interval"
   ]
  },
  {
   "cell_type": "code",
   "execution_count": 62,
   "metadata": {},
   "outputs": [
    {
     "name": "stdout",
     "output_type": "stream",
     "text": [
      "Enter the start : 2\n",
      "Enter the stop : 50\n",
      "2\n",
      "3\n",
      "5\n",
      "7\n",
      "11\n",
      "13\n"
     ]
    }
   ],
   "source": [
    "start = int(input(\"Enter the start : \"))\n",
    "end = int(input(\"Enter the stop : \"))\n",
    "\n",
    "for first_loop in range (start,stop+1):\n",
    "    prime = 1\n",
    "    for second_loop in range(2,int((stop+1)/2)):\n",
    "        if first_loop == second_loop:\n",
    "            continue\n",
    "        if first_loop % second_loop == 0 :\n",
    "            prime = 0\n",
    "            break\n",
    "    if prime == 1:\n",
    "        print(first_loop)"
   ]
  },
  {
   "cell_type": "markdown",
   "metadata": {},
   "source": [
    "# Check whether a number is prime or not "
   ]
  },
  {
   "cell_type": "code",
   "execution_count": 80,
   "metadata": {},
   "outputs": [
    {
     "name": "stdout",
     "output_type": "stream",
     "text": [
      "Enter any number : 19\n",
      "True\n"
     ]
    }
   ],
   "source": [
    "num =int(input(\"Enter any number : \"))\n",
    "\n",
    "prime = 1\n",
    "for loop in range(2,int((num+1)/2)):\n",
    "    if num%loop ==0:\n",
    "        prime = 0\n",
    "        break\n",
    "if prime == 1:\n",
    "    print(\"True\")\n",
    "else:\n",
    "    print(\"False\")"
   ]
  },
  {
   "cell_type": "markdown",
   "metadata": {},
   "source": [
    "# Fibonacci Series"
   ]
  },
  {
   "cell_type": "code",
   "execution_count": 87,
   "metadata": {},
   "outputs": [
    {
     "name": "stdout",
     "output_type": "stream",
     "text": [
      "Enter the number of terms10\n",
      "0\n",
      "1\n",
      "1\n",
      "2\n",
      "3\n",
      "5\n",
      "8\n",
      "13\n",
      "21\n",
      "34\n"
     ]
    }
   ],
   "source": [
    "n_terms = int(input(\"Enter the number of terms\"))\n",
    "\n",
    "first = 0\n",
    "second = 1\n",
    "n_terms = n_terms-2\n",
    "\n",
    "print(first)\n",
    "print(second)\n",
    "while n_terms!=0:\n",
    "    print(first+second)\n",
    "    temp = first\n",
    "    first = second\n",
    "    second = temp +first\n",
    "    n_terms -=1\n"
   ]
  },
  {
   "cell_type": "markdown",
   "metadata": {},
   "source": [
    "# Fibonanci Check"
   ]
  },
  {
   "cell_type": "code",
   "execution_count": 96,
   "metadata": {},
   "outputs": [
    {
     "name": "stdout",
     "output_type": "stream",
     "text": [
      "Enter any number21\n",
      "Yes\n"
     ]
    }
   ],
   "source": [
    "number = int(input(\"Enter any number\"))\n",
    "\n",
    "first = 0\n",
    "second = 1\n",
    "\n",
    "while True:\n",
    "    temp = first\n",
    "    first = second\n",
    "    second = temp +first\n",
    "    if number == second:\n",
    "        print (\"Yes\")\n",
    "        break\n",
    "    if number < second:\n",
    "        print (\"No\")\n",
    "        break\n"
   ]
  },
  {
   "cell_type": "code",
   "execution_count": 101,
   "metadata": {},
   "outputs": [
    {
     "name": "stdout",
     "output_type": "stream",
     "text": [
      "Enter any value : A\n",
      "The ascii value of A is 65\n"
     ]
    }
   ],
   "source": [
    "val = input(\"Enter any value : \")\n",
    "print(\"The ascii value of {} is {}\".format(val,ord(val)))"
   ]
  },
  {
   "cell_type": "markdown",
   "metadata": {},
   "source": [
    "# Sum of Squares of First N natural numbers"
   ]
  },
  {
   "cell_type": "code",
   "execution_count": 103,
   "metadata": {},
   "outputs": [
    {
     "name": "stdout",
     "output_type": "stream",
     "text": [
      "Enter the number of terms : 5\n",
      "The sum of squares of first 5 natural numbers is 55\n"
     ]
    }
   ],
   "source": [
    "N = int(input(\"Enter the number of terms : \"))\n",
    "\n",
    "sum = 0\n",
    "for i in range (1,N+1):\n",
    "    sum += i**2\n",
    "    \n",
    "print(\"The sum of squares of first {} natural numbers is {}\".format(N,sum))"
   ]
  },
  {
   "cell_type": "markdown",
   "metadata": {},
   "source": [
    "# Sum of Cubes of First N natural numbers"
   ]
  },
  {
   "cell_type": "code",
   "execution_count": 104,
   "metadata": {},
   "outputs": [
    {
     "name": "stdout",
     "output_type": "stream",
     "text": [
      "Enter the number of terms : 7\n",
      "The sum of cubes of first 7 natural numbers is 784\n"
     ]
    }
   ],
   "source": [
    "N = int(input(\"Enter the number of terms : \"))\n",
    "\n",
    "sum = 0\n",
    "for i in range (1,N+1):\n",
    "    sum += i**3\n",
    "    \n",
    "print(\"The sum of cubes of first {} natural numbers is {}\".format(N,sum))"
   ]
  },
  {
   "cell_type": "code",
   "execution_count": null,
   "metadata": {},
   "outputs": [],
   "source": []
  }
 ],
 "metadata": {
  "kernelspec": {
   "display_name": "Python 3",
   "language": "python",
   "name": "python3"
  },
  "language_info": {
   "codemirror_mode": {
    "name": "ipython",
    "version": 3
   },
   "file_extension": ".py",
   "mimetype": "text/x-python",
   "name": "python",
   "nbconvert_exporter": "python",
   "pygments_lexer": "ipython3",
   "version": "3.8.3"
  }
 },
 "nbformat": 4,
 "nbformat_minor": 4
}
