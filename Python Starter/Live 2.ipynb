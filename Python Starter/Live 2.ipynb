{
 "cells": [
  {
   "cell_type": "markdown",
   "metadata": {},
   "source": [
    "# Interchange first and last elements in a list"
   ]
  },
  {
   "cell_type": "code",
   "execution_count": 8,
   "metadata": {},
   "outputs": [],
   "source": [
    "list_orig = [12,35,9,56,24]"
   ]
  },
  {
   "cell_type": "markdown",
   "metadata": {},
   "source": [
    "## Method 1 using temp"
   ]
  },
  {
   "cell_type": "code",
   "execution_count": 9,
   "metadata": {},
   "outputs": [
    {
     "name": "stdout",
     "output_type": "stream",
     "text": [
      "Original list :  [12, 35, 9, 56, 24]\n",
      "Swapped list :  [24, 35, 9, 56, 12]\n"
     ]
    }
   ],
   "source": [
    "def tempswap(list_orig):\n",
    "    print(\"Original list : \",list_orig)\n",
    "    temp = list_orig[0]\n",
    "    list_orig[0] = list_orig[-1]\n",
    "    list_orig[-1] = temp\n",
    "    print(\"Swapped list : \",list_orig)\n",
    "\n",
    "tempswap(list_orig)"
   ]
  },
  {
   "cell_type": "markdown",
   "metadata": {},
   "source": [
    "## Method 2 using spontaneous assignment"
   ]
  },
  {
   "cell_type": "code",
   "execution_count": 10,
   "metadata": {},
   "outputs": [],
   "source": [
    "list_orig = [12,35,9,56,24]"
   ]
  },
  {
   "cell_type": "code",
   "execution_count": 11,
   "metadata": {},
   "outputs": [
    {
     "name": "stdout",
     "output_type": "stream",
     "text": [
      "Original list :  [12, 35, 9, 56, 24]\n",
      "Swapped list :  [24, 35, 9, 56, 12]\n"
     ]
    }
   ],
   "source": [
    "def swapassign(list_orig):\n",
    "    print(\"Original list : \",list_orig)\n",
    "    list_orig[0],list_orig[-1] = list_orig[-1],list_orig[0]\n",
    "    print(\"Swapped list : \",list_orig)\n",
    "    \n",
    "swapassign(list_orig)    "
   ]
  },
  {
   "cell_type": "markdown",
   "metadata": {},
   "source": [
    "## Method 3 using tuple"
   ]
  },
  {
   "cell_type": "code",
   "execution_count": 12,
   "metadata": {},
   "outputs": [],
   "source": [
    "list_orig = [12,35,9,56,24]"
   ]
  },
  {
   "cell_type": "code",
   "execution_count": 14,
   "metadata": {},
   "outputs": [
    {
     "name": "stdout",
     "output_type": "stream",
     "text": [
      "Original list :  [12, 35, 9, 56, 24]\n",
      "Swapped list :  [24, 35, 9, 56, 12]\n"
     ]
    }
   ],
   "source": [
    "def swaptuple(list_orig):\n",
    "    print(\"Original list : \",list_orig)\n",
    "    tuple_a = list_orig[0],list_orig[-1]\n",
    "    list_orig[-1],list_orig[0] = tuple_a\n",
    "    print(\"Swapped list : \",list_orig)\n",
    "    \n",
    "swaptuple(list_orig)"
   ]
  },
  {
   "cell_type": "markdown",
   "metadata": {},
   "source": [
    "## Method 4 using Stack methods"
   ]
  },
  {
   "cell_type": "code",
   "execution_count": 15,
   "metadata": {},
   "outputs": [],
   "source": [
    "list_orig = [12,35,9,56,24]"
   ]
  },
  {
   "cell_type": "code",
   "execution_count": 16,
   "metadata": {},
   "outputs": [
    {
     "name": "stdout",
     "output_type": "stream",
     "text": [
      "Original list :  [12, 35, 9, 56, 24]\n",
      "Swapped list :  [24, 35, 9, 56, 12]\n"
     ]
    }
   ],
   "source": [
    "def swapstack(list_orig):\n",
    "    print(\"Original list : \",list_orig)\n",
    "    top = list_orig.pop(-1)\n",
    "    bottom = list_orig.pop(0)\n",
    "    list_orig.append(bottom)\n",
    "    list_orig.insert(0,top)\n",
    "    print(\"Swapped list : \",list_orig)\n",
    "    \n",
    "swapstack(list_orig)"
   ]
  },
  {
   "cell_type": "markdown",
   "metadata": {},
   "source": [
    "# Check if a string is Palindrome or not"
   ]
  },
  {
   "cell_type": "markdown",
   "metadata": {},
   "source": [
    "## Method 1 using indexes"
   ]
  },
  {
   "cell_type": "code",
   "execution_count": 27,
   "metadata": {},
   "outputs": [
    {
     "name": "stdout",
     "output_type": "stream",
     "text": [
      "Enter a string : Malayalam\n",
      "It is a palindrome\n"
     ]
    }
   ],
   "source": [
    "string = input(\"Enter a string : \").strip().lower()\n",
    "\n",
    "if string == string[::-1]:\n",
    "    print(\"It is a palindrome\")\n",
    "else:\n",
    "    print(\"Not a palindrome\")"
   ]
  },
  {
   "cell_type": "markdown",
   "metadata": {},
   "source": [
    "## Method 2 using Loops"
   ]
  },
  {
   "cell_type": "code",
   "execution_count": 45,
   "metadata": {},
   "outputs": [
    {
     "name": "stdout",
     "output_type": "stream",
     "text": [
      "Enter a string : Malayalam\n",
      "It is a palindrome\n"
     ]
    }
   ],
   "source": [
    "string = input(\"Enter a string : \").strip().lower()\n",
    "\n",
    "flag = 0\n",
    "for i in range(0,int(len(string)/2)):\n",
    "    if string[i] == string[len(string)-i-1]:\n",
    "        flag = 1\n",
    "    else:\n",
    "        flag = 0 \n",
    "        break\n",
    "if flag == 1:\n",
    "    print(\"It is a palindrome\")\n",
    "elif flag == 0:\n",
    "    print(\"Not a Palindrome\")"
   ]
  },
  {
   "cell_type": "markdown",
   "metadata": {},
   "source": [
    "## Method 3 using reverse function"
   ]
  },
  {
   "cell_type": "code",
   "execution_count": 52,
   "metadata": {},
   "outputs": [
    {
     "name": "stdout",
     "output_type": "stream",
     "text": [
      "Enter a string : Malayalam\n",
      "It is a palindrome\n"
     ]
    }
   ],
   "source": [
    "string = input(\"Enter a string : \").strip().lower()\n",
    "\n",
    "rev = \"\".join(reversed(string))\n",
    "if string == rev:\n",
    "    print(\"It is a palindrome\")\n",
    "else:\n",
    "    print(\"Not a palindrome\")\n",
    "    "
   ]
  },
  {
   "cell_type": "markdown",
   "metadata": {},
   "source": [
    "# Create a list of tuples from given list having number and its cube in each tuple"
   ]
  },
  {
   "cell_type": "markdown",
   "metadata": {},
   "source": [
    "## Method 1 using for loop in simple iterator"
   ]
  },
  {
   "cell_type": "code",
   "execution_count": 53,
   "metadata": {},
   "outputs": [
    {
     "name": "stdout",
     "output_type": "stream",
     "text": [
      "[(1, 1), (2, 8), (3, 27)]\n"
     ]
    }
   ],
   "source": [
    "val = [1,2,3]\n",
    "\n",
    "res= [(va,va**3) for va in val]\n",
    "print(res)"
   ]
  },
  {
   "cell_type": "markdown",
   "metadata": {},
   "source": [
    "# Print an Inverted Star Pattern"
   ]
  },
  {
   "cell_type": "code",
   "execution_count": 62,
   "metadata": {},
   "outputs": [
    {
     "name": "stdout",
     "output_type": "stream",
     "text": [
      "Enter the number of lines11\n",
      "***********\n",
      " **********\n",
      "  *********\n",
      "   ********\n",
      "    *******\n",
      "     ******\n",
      "      *****\n",
      "       ****\n",
      "        ***\n",
      "         **\n",
      "          *\n"
     ]
    }
   ],
   "source": [
    "line = int(input(\"Enter the number of lines\"))\n",
    "\n",
    "for i in range(0,line):\n",
    "    print(\" \"*i + \"*\"*line)\n",
    "    line = line-1\n",
    "    "
   ]
  },
  {
   "cell_type": "code",
   "execution_count": null,
   "metadata": {},
   "outputs": [],
   "source": []
  }
 ],
 "metadata": {
  "kernelspec": {
   "display_name": "Python 3",
   "language": "python",
   "name": "python3"
  },
  "language_info": {
   "codemirror_mode": {
    "name": "ipython",
    "version": 3
   },
   "file_extension": ".py",
   "mimetype": "text/x-python",
   "name": "python",
   "nbconvert_exporter": "python",
   "pygments_lexer": "ipython3",
   "version": "3.8.3"
  }
 },
 "nbformat": 4,
 "nbformat_minor": 4
}
