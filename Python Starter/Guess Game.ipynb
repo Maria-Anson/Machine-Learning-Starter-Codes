{
 "cells": [
  {
   "cell_type": "markdown",
   "metadata": {},
   "source": [
    "# Import Libraries"
   ]
  },
  {
   "cell_type": "code",
   "execution_count": 1,
   "metadata": {},
   "outputs": [],
   "source": [
    "import random "
   ]
  },
  {
   "cell_type": "code",
   "execution_count": 10,
   "metadata": {},
   "outputs": [
    {
     "name": "stdout",
     "output_type": "stream",
     "text": [
      "What's your name? Anson\n",
      "Good Luck!  Anson\n",
      "Guess the characters \n",
      "Hint: Starts with w\n",
      "_ _ _ _ _ \n",
      "Guess a characterw\n",
      "w _ _ _ _ \n",
      "Guess a charactera\n",
      "w a _ _ _ \n",
      "Guess a charactert\n",
      "w a t _ _ \n",
      "Guess a charactere\n",
      "w a t e _ \n",
      "Guess a characterr\n",
      "w a t e r \n",
      "You Win\n",
      "The word is  water\n"
     ]
    }
   ],
   "source": [
    "name = input(\"What's your name? \")\n",
    "print(\"Good Luck! \",name)\n",
    "\n",
    "word_list = ['rainbow', 'computer', 'science', 'programming', \n",
    "             'python', 'mathematics', 'player', 'condition', \n",
    "             'reverse', 'water', 'board', 'geeks', 'anson']\n",
    "\n",
    "word = random.choice(word_list)\n",
    "\n",
    "print(\"Guess the characters \")\n",
    "print(\"Hint: Starts with\",word[0])\n",
    "guesses = ''\n",
    "\n",
    "no_of_turns = 12\n",
    "\n",
    "while no_of_turns>0:\n",
    "    \n",
    "    failed = 0\n",
    "    \n",
    "    for char in word:\n",
    "        if char in guesses:\n",
    "            print(char, end = ' ')\n",
    "        else:\n",
    "            print(\"_\", end = ' ')\n",
    "            failed +=1\n",
    "    \n",
    "    if failed == 0:\n",
    "        print(\"\\nYou Win\")\n",
    "        print(\"The word is \",word)\n",
    "        break\n",
    "        \n",
    "    guess = input(\"\\nGuess a character\")\n",
    "    guesses +=guess\n",
    "    \n",
    "    if guess not in word:\n",
    "        no_of_turns -=1\n",
    "        \n",
    "        print(\"\\nWrong\")\n",
    "        print(\"You have \",no_of_turns,\" left\")\n",
    "    \n",
    "    if no_of_turns == 0:\n",
    "        print(\"You loose\")"
   ]
  },
  {
   "cell_type": "code",
   "execution_count": null,
   "metadata": {},
   "outputs": [],
   "source": []
  }
 ],
 "metadata": {
  "kernelspec": {
   "display_name": "Python 3",
   "language": "python",
   "name": "python3"
  },
  "language_info": {
   "codemirror_mode": {
    "name": "ipython",
    "version": 3
   },
   "file_extension": ".py",
   "mimetype": "text/x-python",
   "name": "python",
   "nbconvert_exporter": "python",
   "pygments_lexer": "ipython3",
   "version": "3.8.3"
  }
 },
 "nbformat": 4,
 "nbformat_minor": 4
}
