{
 "cells": [
  {
   "cell_type": "markdown",
   "metadata": {},
   "source": [
    "# Documentation"
   ]
  },
  {
   "cell_type": "markdown",
   "metadata": {},
   "source": [
    "https://scikit-learn.org/stable/modules/linear_model.html"
   ]
  },
  {
   "cell_type": "code",
   "execution_count": 2,
   "metadata": {},
   "outputs": [],
   "source": [
    "import numpy\n",
    "import random\n",
    "import matplotlib\n",
    "%matplotlib inline"
   ]
  },
  {
   "cell_type": "code",
   "execution_count": 3,
   "metadata": {},
   "outputs": [],
   "source": [
    "random.seed(42)\n",
    "numpy.random.seed(42)"
   ]
  },
  {
   "cell_type": "markdown",
   "metadata": {},
   "source": [
    "# Manual Dataset prep"
   ]
  },
  {
   "cell_type": "code",
   "execution_count": 4,
   "metadata": {},
   "outputs": [
    {
     "name": "stdout",
     "output_type": "stream",
     "text": [
      "[60, 27, 21, 37, 35, 34, 28, 26, 63, 54]\n",
      "[394.8685661204493, 163.2194279531526, 157.1575415240277, 292.17119425632103, 209.38386501106658, 203.1345217220328, 238.16851262029564, 193.19738916611635, 374.97102456260194, 359.2024017434386]\n"
     ]
    }
   ],
   "source": [
    "ages = []\n",
    "for i in range(100):\n",
    "    ages.append(random.randint(20,65))\n",
    "net_worth = [val*6.25+numpy.random.normal(scale = 40.) for val in ages]\n",
    "\n",
    "print(ages[:10])\n",
    "print(net_worth[:10])"
   ]
  },
  {
   "cell_type": "code",
   "execution_count": 5,
   "metadata": {},
   "outputs": [
    {
     "name": "stdout",
     "output_type": "stream",
     "text": [
      "[[60]\n",
      " [27]\n",
      " [21]\n",
      " [37]\n",
      " [35]\n",
      " [34]\n",
      " [28]\n",
      " [26]\n",
      " [63]\n",
      " [54]]\n",
      "[[394.86856612]\n",
      " [163.21942795]\n",
      " [157.15754152]\n",
      " [292.17119426]\n",
      " [209.38386501]\n",
      " [203.13452172]\n",
      " [238.16851262]\n",
      " [193.19738917]\n",
      " [374.97102456]\n",
      " [359.20240174]]\n"
     ]
    }
   ],
   "source": [
    "X = numpy.reshape(numpy.array(ages), (len(ages),1))\n",
    "y = numpy.reshape(numpy.array(net_worth), (len(net_worth),1))\n",
    "print(X[0:10])\n",
    "print(y[0:10])"
   ]
  },
  {
   "cell_type": "markdown",
   "metadata": {},
   "source": [
    "# Model data split"
   ]
  },
  {
   "cell_type": "code",
   "execution_count": 6,
   "metadata": {},
   "outputs": [],
   "source": [
    "from sklearn.model_selection import train_test_split\n",
    "\n",
    "X_train, X_test, y_train, y_test = train_test_split(X, y)"
   ]
  },
  {
   "cell_type": "code",
   "execution_count": 7,
   "metadata": {},
   "outputs": [
    {
     "name": "stdout",
     "output_type": "stream",
     "text": [
      "X_train (75, 1) [[22]\n",
      " [63]\n",
      " [25]\n",
      " [54]\n",
      " [48]\n",
      " [32]\n",
      " [55]\n",
      " [61]\n",
      " [46]\n",
      " [62]]\n",
      "X_test (25, 1) [[57]\n",
      " [38]\n",
      " [22]\n",
      " [26]\n",
      " [26]\n",
      " [21]\n",
      " [60]\n",
      " [37]\n",
      " [36]\n",
      " [21]]\n"
     ]
    }
   ],
   "source": [
    "print(\"X_train\",X_train.shape,X_train[:10])\n",
    "print(\"X_test\",X_test.shape,X_test[:10])\n"
   ]
  },
  {
   "cell_type": "markdown",
   "metadata": {},
   "source": [
    "# Model build"
   ]
  },
  {
   "cell_type": "code",
   "execution_count": 8,
   "metadata": {},
   "outputs": [],
   "source": [
    "def build(feature, truth):\n",
    "    from sklearn.linear_model import LinearRegression\n",
    "    reg = LinearRegression()\n",
    "    reg.fit(feature, truth)\n",
    "    return reg"
   ]
  },
  {
   "cell_type": "code",
   "execution_count": 9,
   "metadata": {},
   "outputs": [
    {
     "name": "stdout",
     "output_type": "stream",
     "text": [
      "Slope :  [[6.30945055]]\n",
      "Intercept :  [-7.44716216]\n"
     ]
    }
   ],
   "source": [
    "model = build(X_train, y_train)\n",
    "print(\"Slope : \",model.coef_)\n",
    "print(\"Intercept : \",model.intercept_)"
   ]
  },
  {
   "cell_type": "markdown",
   "metadata": {},
   "source": [
    "# Data visualization"
   ]
  },
  {
   "cell_type": "code",
   "execution_count": 10,
   "metadata": {},
   "outputs": [],
   "source": [
    "import matplotlib.pyplot as plt"
   ]
  },
  {
   "cell_type": "code",
   "execution_count": 11,
   "metadata": {},
   "outputs": [],
   "source": [
    "line = model.coef_[0][0]*X_train + model.intercept_"
   ]
  },
  {
   "cell_type": "code",
   "execution_count": 12,
   "metadata": {},
   "outputs": [
    {
     "data": {
      "text/plain": [
       "[<matplotlib.lines.Line2D at 0x1a184979b20>]"
      ]
     },
     "execution_count": 12,
     "metadata": {},
     "output_type": "execute_result"
    },
    {
     "data": {
      "image/png": "[encoded data removed]",
      "text/plain": [
       "<Figure size 432x288 with 1 Axes>"
      ]
     },
     "metadata": {
      "needs_background": "light"
     },
     "output_type": "display_data"
    }
   ],
   "source": [
    "plt.scatter(X_train,y_train,c='b',marker='o')\n",
    "plt.xlabel('X_train')\n",
    "plt.ylabel('y_train')\n",
    "plt.plot(X_train,line,c='g')"
   ]
  },
  {
   "cell_type": "code",
   "execution_count": 13,
   "metadata": {},
   "outputs": [],
   "source": [
    "line1 = model.coef_[0][0]*X_test + model.intercept_"
   ]
  },
  {
   "cell_type": "code",
   "execution_count": 14,
   "metadata": {},
   "outputs": [
    {
     "data": {
      "text/plain": [
       "[<matplotlib.lines.Line2D at 0x1a184a3e100>]"
      ]
     },
     "execution_count": 14,
     "metadata": {},
     "output_type": "execute_result"
    },
    {
     "data": {
      "image/png": "[encoded data removed]",
      "text/plain": [
       "<Figure size 432x288 with 1 Axes>"
      ]
     },
     "metadata": {
      "needs_background": "light"
     },
     "output_type": "display_data"
    }
   ],
   "source": [
    "plt.scatter(X_test,y_test,c='b',marker='o')\n",
    "plt.xlabel('X_test')\n",
    "plt.ylabel('y_test')\n",
    "plt.plot(X_test,line1,c='g')"
   ]
  },
  {
   "cell_type": "code",
   "execution_count": 18,
   "metadata": {},
   "outputs": [
    {
     "name": "stdout",
     "output_type": "stream",
     "text": [
      "Training r-squared error 0.877314608488221\n",
      "Test r-squared error 0.7889037259170788\n"
     ]
    }
   ],
   "source": [
    "print(\"Training r-squared error\",model.score(X_train,y_train))\n",
    "print(\"Test r-squared error\",model.score(X_test,y_test))"
   ]
  }
 ],
 "metadata": {
  "kernelspec": {
   "display_name": "Python 3",
   "language": "python",
   "name": "python3"
  },
  "language_info": {
   "codemirror_mode": {
    "name": "ipython",
    "version": 3
   },
   "file_extension": ".py",
   "mimetype": "text/x-python",
   "name": "python",
   "nbconvert_exporter": "python",
   "pygments_lexer": "ipython3",
   "version": "3.8.3"
  }
 },
 "nbformat": 4,
 "nbformat_minor": 4
}
